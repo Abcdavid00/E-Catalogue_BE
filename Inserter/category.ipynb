{
 "cells": [
  {
   "cell_type": "code",
   "execution_count": 163,
   "metadata": {},
   "outputs": [],
   "source": [
    "import pandas as pd"
   ]
  },
  {
   "cell_type": "code",
   "execution_count": 164,
   "metadata": {},
   "outputs": [],
   "source": [
    "def calc_indent(numb: int) -> str:\n",
    "    if numb < 2:\n",
    "        return \"\"\n",
    "    binary = bin(numb)[3:]\n",
    "    ret = map(lambda x: \"│  \" if x == \"1\" else \"   \", binary[:-1])\n",
    "    return \"\".join(ret) + ( \"└──\" if binary[-1] == \"0\" else \"├──\")\n",
    "\n",
    "\n",
    "class Category:\n",
    "    def __init__(self, name, image):\n",
    "        self.id = None\n",
    "        self.name = name\n",
    "        self.children = []\n",
    "        self.image = image\n",
    "        \n",
    "    def add_child(self, child):\n",
    "        self.children.append(child)\n",
    "    \n",
    "    def add_child(self, name, image):\n",
    "        self.children.append(Category(name, image))\n",
    "        \n",
    "    def add_children(self, children):\n",
    "        self.children.extend(map(lambda x: Category(x[0],x[1]) ,children))\n",
    "        \n",
    "    def __str__(self, indent=1):\n",
    "        ret = calc_indent(indent) + self.__repr__() + \"\\n\"\n",
    "        for child in self.children[:-1]:\n",
    "            ret += child.__str__(indent*2+1)\n",
    "        if len(self.children) > 0:\n",
    "            ret += self.children[-1].__str__(indent*2)\n",
    "        return ret\n",
    "    \n",
    "    \n",
    "    def __repr__(self):\n",
    "        return f'[{self.id if self.id else \"?\"}] {self.name} [{self.image if self.image else \"None\"}]'\n",
    "\n",
    "\n",
    "    def get_child(self, name):\n",
    "        for child in self.children:\n",
    "            if child.name == name:\n",
    "                return child\n",
    "        return None\n",
    "\n",
    "    def __getitem__(self, key):\n",
    "        if hasattr(self, 'children') and isinstance(self.children, (list, dict)):\n",
    "            return self.get_child(key)\n",
    "        else:\n",
    "            raise AttributeError(\"The 'children' attribute does not exist or is not subscriptable.\")"
   ]
  },
  {
   "cell_type": "code",
   "execution_count": 165,
   "metadata": {},
   "outputs": [
    {
     "name": "stdout",
     "output_type": "stream",
     "text": [
      "[?] Men [None]\n",
      "├──[?] Clothing [None]\n",
      "│  ├──[?] Coats [None]\n",
      "│  └──[?] Dresses [None]\n",
      "├──[?] Suits [None]\n",
      "└──[?] Shoes [None]\n",
      "\n"
     ]
    }
   ],
   "source": [
    "Men = Category('Men', None)\n",
    "Men.add_children([\n",
    "    ('Clothing', None),\n",
    "    ('Suits', None),\n",
    "    ('Shoes', None),\n",
    "])\n",
    "\n",
    "Men['Clothing'].add_children([\n",
    "    ('Coats', None),\n",
    "    ('Dresses', None),\n",
    "    ('Jumpsuits', None),\n",
    "    ('Jackets', None),\n",
    "    ('Suit Jackets', None),\n",
    "    ('Sweaters', None),\n",
    "    ('Cardigans', None),\n",
    "    ('Shirts', None),\n",
    "    ('Leather', None),\n",
    "    ('T-Shirts', None),\n",
    "    ('Tops', None),\n",
    "    ('Sweatshirts', None),\n",
    "    ('Trousers', None),\n",
    "    ('Shirts', None),\n",
    "    ('Jeans', None),\n",
    "    ('Pikinis', None),\n",
    "    ('Swimsuits', None),\n",
    "])\n",
    "Men['Suits'].add_children([\n",
    "    ('Suits', None),\n",
    "    ('Blazers', None),\n",
    "    ('Waistcoats', None),\n",
    "    ('Ties', None),\n",
    "    ('Bow Ties', None),\n",
    "    ('Pocket Squares', None),\n",
    "    ('Cufflinks', None),\n",
    "    ('Tie Clips', None),\n",
    "])\n",
    "print(Men)"
   ]
  }
 ],
 "metadata": {
  "kernelspec": {
   "display_name": "Scrapy",
   "language": "python",
   "name": "python3"
  },
  "language_info": {
   "codemirror_mode": {
    "name": "ipython",
    "version": 3
   },
   "file_extension": ".py",
   "mimetype": "text/x-python",
   "name": "python",
   "nbconvert_exporter": "python",
   "pygments_lexer": "ipython3",
   "version": "3.12.0"
  }
 },
 "nbformat": 4,
 "nbformat_minor": 2
}
